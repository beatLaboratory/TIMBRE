{
  "cells": [
    {
      "cell_type": "markdown",
      "metadata": {
        "colab_type": "text",
        "id": "view-in-github"
      },
      "source": [
        "<a href=\"https://colab.research.google.com/github/beatLaboratory/TIMBRE/blob/main/extract_data.ipynb\" target=\"_parent\"><img src=\"https://colab.research.google.com/assets/colab-badge.svg\" alt=\"Open In Colab\"/></a>"
      ]
    },
    {
      "cell_type": "markdown",
      "metadata": {
        "id": "nsQs5NwCMc-x"
      },
      "source": [
        "#Importing and downsampling data\n",
        "\n",
        "Here we show how the behavioral, spiking, and LFP data can be imported from figshare and saved at 25 Hz sampling rate, thus reducing the memory requirements. For most people this notebook is not important, as we will only be working with the downsampled data (i.e., the files created by this notebook)."
      ]
    },
    {
      "cell_type": "code",
      "execution_count": null,
      "metadata": {
        "colab": {
          "base_uri": "https://localhost:8080/"
        },
        "id": "wKUzPGATL1CP",
        "outputId": "384525b5-b944-48b3-c17a-6518e7980b66"
      },
      "outputs": [
        {
          "name": "stdout",
          "output_type": "stream",
          "text": [
            "Cloning into 'TIMBRE'...\n",
            "remote: Enumerating objects: 86, done.\u001b[K\n",
            "remote: Counting objects: 100% (86/86), done.\u001b[K\n",
            "remote: Compressing objects: 100% (71/71), done.\u001b[K\n",
            "remote: Total 86 (delta 46), reused 36 (delta 14), pack-reused 0\u001b[K\n",
            "Receiving objects: 100% (86/86), 3.07 MiB | 10.74 MiB/s, done.\n",
            "Resolving deltas: 100% (46/46), done.\n"
          ]
        }
      ],
      "source": [
        "!git clone https://github.com/beatLaboratory/TIMBRE.git"
      ]
    },
    {
      "cell_type": "markdown",
      "metadata": {
        "id": "QtStoB6mP8Dm"
      },
      "source": [
        "#Extract data\n",
        "\n",
        "Now we will access each of 4 sessions, extracting the behavior, spiking, and LFP files, decimating them, and saving them as data*.mat files."
      ]
    },
    {
      "cell_type": "code",
      "execution_count": null,
      "metadata": {
        "id": "mWyHpO79VZdh"
      },
      "outputs": [],
      "source": [
        "import requests\n",
        "import os\n",
        "import io\n",
        "import tempfile\n",
        "import scipy.io as iomat\n",
        "import get_data\n",
        "\n",
        "repository_id = \"24757638\"  # Behavior_and_spiking_data_for_rats_running_a_3-arm_maze\"\n",
        "url = f\"https://api.figshare.com/v2/articles/{repository_id}\"\n",
        "\n",
        "# Make the API request\n",
        "response = requests.get(url)\n",
        "files = response.json()['files']\n",
        "n_channels = [385, 385, 256, 256]\n",
        "\n",
        "# Loop through a set range\n",
        "for i in range(4):  # Adjust the range as needed\n",
        "    behav_file_pattern = f\"rec0{i + 1}_BehavElectrDataLFP.mat\"\n",
        "    lfp_file_pattern = f\"rec0{i + 1}.lfp\"\n",
        "\n",
        "    # Find the matching files\n",
        "    behav_file = next((file for file in files if file['name'] == behav_file_pattern), None)\n",
        "    lfp_file = next((file for file in files if file['name'] == lfp_file_pattern), None)\n",
        "    \n",
        "    # Initialize combined data dictionary\n",
        "    full_data = {}\n",
        "    \n",
        "    if behav_file and lfp_file:\n",
        "        print(f\"Downloading files: {behav_file['name']} and {lfp_file['name']}\")\n",
        "\n",
        "        behav_response = requests.get(behav_file['download_url'])\n",
        "        behav_filename = f\"rec0{i + 1}_BehavElectrDataLFP.mat\"\n",
        "        with open(behav_filename, 'wb') as f:\n",
        "            f.write(behav_response.content)\n",
        "        print(f\"Downloaded {behav_filename}\")\n",
        "\n",
        "        full_data['behav'] = iomat.loadmat(behav_filename)\n",
        "\n",
        "       # Download LFP file\n",
        "        lfp_response = requests.get(lfp_file['download_url'])\n",
        "        lfp_filename = f\"rec0{i + 1}.lfp\"\n",
        "        with open(lfp_filename, 'wb') as f:\n",
        "            f.write(lfp_response.content)\n",
        "        print(f\"Downloaded {lfp_filename}\")\n",
        "\n",
        "        full_data['lfps'] = get_data.get_LFP(lfp_filename, n_channels[i], 1250)\n",
        "\n",
        "        iomat.savemat(f\"data0{i + 1}.mat\", full_data)\n"
      ]
    }
  ],
  "metadata": {
    "colab": {
      "authorship_tag": "ABX9TyNXCTsYBUkc1+oAGpqA8ypy",
      "include_colab_link": true,
      "provenance": []
    },
    "kernelspec": {
      "display_name": "Python 3",
      "name": "python3"
    },
    "language_info": {
      "name": "python",
      "version": "3.12.4"
    }
  },
  "nbformat": 4,
  "nbformat_minor": 0
}
